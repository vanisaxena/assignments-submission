{
 "cells": [
  {
   "cell_type": "markdown",
   "id": "acceptable-texture",
   "metadata": {},
   "source": [
    "# # Q1  Write a python program that takes two numbers as the input such as X and Y and print the result of X^Y"
   ]
  },
  {
   "cell_type": "code",
   "execution_count": 2,
   "id": "above-break",
   "metadata": {},
   "outputs": [
    {
     "name": "stdout",
     "output_type": "stream",
     "text": [
      "Enter a value of x : 12\n",
      "Enter a value of Y : 2\n",
      "144.0\n"
     ]
    }
   ],
   "source": [
    "import math\n",
    "X= int(input(\"Enter a value of x : \"))\n",
    "Y= int(input(\"Enter a value of Y : \"))\n",
    "result =math.pow(X,Y)\n",
    "print(result)"
   ]
  },
  {
   "cell_type": "markdown",
   "id": "atlantic-fruit",
   "metadata": {},
   "source": [
    "# # Q2 Write a Python program to print the numbers in the list which are divisible by 3."
   ]
  },
  {
   "cell_type": "code",
   "execution_count": 7,
   "id": "developing-astronomy",
   "metadata": {},
   "outputs": [
    {
     "name": "stdout",
     "output_type": "stream",
     "text": [
      "Numbers divisible by 3 are [45, 12, 60, 66, 105, 18]\n"
     ]
    }
   ],
   "source": [
    "num_list = [45, 12, 60, 37, 66, 105, 18]\n",
    "result = list(filter(lambda x: (x % 3 == 0), num_list))\n",
    "print(\"Numbers divisible by 3 are\",result)"
   ]
  },
  {
   "cell_type": "code",
   "execution_count": null,
   "id": "departmental-honey",
   "metadata": {},
   "outputs": [],
   "source": []
  },
  {
   "cell_type": "code",
   "execution_count": null,
   "id": "interesting-halifax",
   "metadata": {},
   "outputs": [],
   "source": []
  },
  {
   "cell_type": "code",
   "execution_count": null,
   "id": "prospective-realtor",
   "metadata": {},
   "outputs": [],
   "source": []
  },
  {
   "cell_type": "code",
   "execution_count": null,
   "id": "younger-welding",
   "metadata": {},
   "outputs": [],
   "source": []
  },
  {
   "cell_type": "code",
   "execution_count": null,
   "id": "liquid-philadelphia",
   "metadata": {},
   "outputs": [],
   "source": []
  },
  {
   "cell_type": "code",
   "execution_count": null,
   "id": "subtle-fundamental",
   "metadata": {},
   "outputs": [],
   "source": []
  }
 ],
 "metadata": {
  "kernelspec": {
   "display_name": "Python 3",
   "language": "python",
   "name": "python3"
  },
  "language_info": {
   "codemirror_mode": {
    "name": "ipython",
    "version": 3
   },
   "file_extension": ".py",
   "mimetype": "text/x-python",
   "name": "python",
   "nbconvert_exporter": "python",
   "pygments_lexer": "ipython3",
   "version": "3.9.2"
  }
 },
 "nbformat": 4,
 "nbformat_minor": 5
}
